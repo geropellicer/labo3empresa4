{
 "cells": [
  {
   "cell_type": "code",
   "execution_count": 86,
   "metadata": {},
   "outputs": [],
   "source": [
    "import pandas as pd\n",
    "import numpy as np\n",
    "from core import filter_clientes_importantes, filter_productos_importantes"
   ]
  },
  {
   "cell_type": "code",
   "execution_count": 87,
   "metadata": {},
   "outputs": [],
   "source": [
    "# Reading the CSV file\n",
    "stocks_02 = pd.read_csv(\"./datasets/originales_clase_3/tb_stocks_02.txt.gz\", sep=\"\\t\")\n",
    "stocks_01 = pd.read_csv(\"./datasets/originales_clase_2/tb_stocks_01.txt.gz\", sep=\"\\t\", header=None)\n",
    "productos_todos = pd.read_csv(\"./datasets/tb_sellout_02_productos_todos.csv\")\n",
    "maestro = pd.read_csv(\"./datasets/maestro_productos.csv\")"
   ]
  },
  {
   "cell_type": "code",
   "execution_count": 88,
   "metadata": {},
   "outputs": [
    {
     "data": {
      "text/html": [
       "<div>\n",
       "<style scoped>\n",
       "    .dataframe tbody tr th:only-of-type {\n",
       "        vertical-align: middle;\n",
       "    }\n",
       "\n",
       "    .dataframe tbody tr th {\n",
       "        vertical-align: top;\n",
       "    }\n",
       "\n",
       "    .dataframe thead th {\n",
       "        text-align: right;\n",
       "    }\n",
       "</style>\n",
       "<table border=\"1\" class=\"dataframe\">\n",
       "  <thead>\n",
       "    <tr style=\"text-align: right;\">\n",
       "      <th></th>\n",
       "      <th>0</th>\n",
       "    </tr>\n",
       "  </thead>\n",
       "  <tbody>\n",
       "    <tr>\n",
       "      <th>0</th>\n",
       "      <td>periodo</td>\n",
       "    </tr>\n",
       "    <tr>\n",
       "      <th>1</th>\n",
       "      <td>product_id</td>\n",
       "    </tr>\n",
       "    <tr>\n",
       "      <th>2</th>\n",
       "      <td>stock_final</td>\n",
       "    </tr>\n",
       "    <tr>\n",
       "      <th>3</th>\n",
       "      <td>201810</td>\n",
       "    </tr>\n",
       "    <tr>\n",
       "      <th>4</th>\n",
       "      <td>20524</td>\n",
       "    </tr>\n",
       "    <tr>\n",
       "      <th>...</th>\n",
       "      <td>...</td>\n",
       "    </tr>\n",
       "    <tr>\n",
       "      <th>41071</th>\n",
       "      <td>20981</td>\n",
       "    </tr>\n",
       "    <tr>\n",
       "      <th>41072</th>\n",
       "      <td>2.18491</td>\n",
       "    </tr>\n",
       "    <tr>\n",
       "      <th>41073</th>\n",
       "      <td>201912</td>\n",
       "    </tr>\n",
       "    <tr>\n",
       "      <th>41074</th>\n",
       "      <td>20853</td>\n",
       "    </tr>\n",
       "    <tr>\n",
       "      <th>41075</th>\n",
       "      <td>1.82373</td>\n",
       "    </tr>\n",
       "  </tbody>\n",
       "</table>\n",
       "<p>41076 rows × 1 columns</p>\n",
       "</div>"
      ],
      "text/plain": [
       "                 0\n",
       "0          periodo\n",
       "1       product_id\n",
       "2      stock_final\n",
       "3           201810\n",
       "4            20524\n",
       "...            ...\n",
       "41071        20981\n",
       "41072      2.18491\n",
       "41073       201912\n",
       "41074        20853\n",
       "41075      1.82373\n",
       "\n",
       "[41076 rows x 1 columns]"
      ]
     },
     "execution_count": 88,
     "metadata": {},
     "output_type": "execute_result"
    }
   ],
   "source": [
    "stocks_01"
   ]
  },
  {
   "cell_type": "code",
   "execution_count": 89,
   "metadata": {},
   "outputs": [
    {
     "data": {
      "text/html": [
       "<div>\n",
       "<style scoped>\n",
       "    .dataframe tbody tr th:only-of-type {\n",
       "        vertical-align: middle;\n",
       "    }\n",
       "\n",
       "    .dataframe tbody tr th {\n",
       "        vertical-align: top;\n",
       "    }\n",
       "\n",
       "    .dataframe thead th {\n",
       "        text-align: right;\n",
       "    }\n",
       "</style>\n",
       "<table border=\"1\" class=\"dataframe\">\n",
       "  <thead>\n",
       "    <tr style=\"text-align: right;\">\n",
       "      <th></th>\n",
       "      <th>periodo</th>\n",
       "      <th>product_id</th>\n",
       "      <th>stock_final</th>\n",
       "    </tr>\n",
       "  </thead>\n",
       "  <tbody>\n",
       "    <tr>\n",
       "      <th>0</th>\n",
       "      <td>201810</td>\n",
       "      <td>20524</td>\n",
       "      <td>1.61267</td>\n",
       "    </tr>\n",
       "    <tr>\n",
       "      <th>1</th>\n",
       "      <td>201810</td>\n",
       "      <td>20311</td>\n",
       "      <td>2.93657</td>\n",
       "    </tr>\n",
       "    <tr>\n",
       "      <th>2</th>\n",
       "      <td>201810</td>\n",
       "      <td>20654</td>\n",
       "      <td>6.83269</td>\n",
       "    </tr>\n",
       "    <tr>\n",
       "      <th>3</th>\n",
       "      <td>201810</td>\n",
       "      <td>21005</td>\n",
       "      <td>1.01338</td>\n",
       "    </tr>\n",
       "    <tr>\n",
       "      <th>4</th>\n",
       "      <td>201810</td>\n",
       "      <td>20974</td>\n",
       "      <td>0.34595</td>\n",
       "    </tr>\n",
       "    <tr>\n",
       "      <th>...</th>\n",
       "      <td>...</td>\n",
       "      <td>...</td>\n",
       "      <td>...</td>\n",
       "    </tr>\n",
       "    <tr>\n",
       "      <th>13686</th>\n",
       "      <td>201912</td>\n",
       "      <td>20453</td>\n",
       "      <td>1.43741</td>\n",
       "    </tr>\n",
       "    <tr>\n",
       "      <th>13687</th>\n",
       "      <td>201912</td>\n",
       "      <td>21026</td>\n",
       "      <td>7.26817</td>\n",
       "    </tr>\n",
       "    <tr>\n",
       "      <th>13688</th>\n",
       "      <td>201912</td>\n",
       "      <td>21054</td>\n",
       "      <td>0.50833</td>\n",
       "    </tr>\n",
       "    <tr>\n",
       "      <th>13689</th>\n",
       "      <td>201912</td>\n",
       "      <td>20981</td>\n",
       "      <td>2.18491</td>\n",
       "    </tr>\n",
       "    <tr>\n",
       "      <th>13690</th>\n",
       "      <td>201912</td>\n",
       "      <td>20853</td>\n",
       "      <td>1.82373</td>\n",
       "    </tr>\n",
       "  </tbody>\n",
       "</table>\n",
       "<p>13691 rows × 3 columns</p>\n",
       "</div>"
      ],
      "text/plain": [
       "      periodo product_id stock_final\n",
       "0      201810      20524     1.61267\n",
       "1      201810      20311     2.93657\n",
       "2      201810      20654     6.83269\n",
       "3      201810      21005     1.01338\n",
       "4      201810      20974     0.34595\n",
       "...       ...        ...         ...\n",
       "13686  201912      20453     1.43741\n",
       "13687  201912      21026     7.26817\n",
       "13688  201912      21054     0.50833\n",
       "13689  201912      20981     2.18491\n",
       "13690  201912      20853     1.82373\n",
       "\n",
       "[13691 rows x 3 columns]"
      ]
     },
     "execution_count": 89,
     "metadata": {},
     "output_type": "execute_result"
    }
   ],
   "source": [
    "columns = 3\n",
    "data_series = stocks_01.iloc[:, 0]\n",
    "column_names = data_series[:columns].tolist()\n",
    "data_series = data_series[columns:]\n",
    "\n",
    "# Ensuring the data length is a multiple of 5\n",
    "data_series = data_series[: len(data_series) - (len(data_series) % columns)]\n",
    "\n",
    "# Reshaping the data\n",
    "reshaped_data = data_series.values.reshape(-1, columns)\n",
    "\n",
    "stocks_01 = pd.DataFrame(\n",
    "    reshaped_data,\n",
    "    columns=column_names,\n",
    ")\n",
    "stocks_01"
   ]
  },
  {
   "cell_type": "code",
   "execution_count": 90,
   "metadata": {},
   "outputs": [
    {
     "data": {
      "text/plain": [
       "periodo\n",
       "201910    949\n",
       "201911    937\n",
       "201907    931\n",
       "201909    929\n",
       "201908    928\n",
       "201912    925\n",
       "201904    915\n",
       "201906    914\n",
       "201905    909\n",
       "201811    897\n",
       "201810    896\n",
       "201903    893\n",
       "201902    892\n",
       "201812    891\n",
       "201901    885\n",
       "Name: count, dtype: int64"
      ]
     },
     "execution_count": 90,
     "metadata": {},
     "output_type": "execute_result"
    }
   ],
   "source": [
    "stocks_01[\"periodo\"].value_counts()"
   ]
  },
  {
   "cell_type": "code",
   "execution_count": 91,
   "metadata": {},
   "outputs": [
    {
     "data": {
      "text/plain": [
       "periodo\n",
       "201910    949\n",
       "201911    937\n",
       "201907    931\n",
       "201909    929\n",
       "201908    928\n",
       "201912    925\n",
       "201904    915\n",
       "201906    914\n",
       "201905    909\n",
       "201811    897\n",
       "201810    896\n",
       "201903    893\n",
       "201902    892\n",
       "201812    891\n",
       "201901    885\n",
       "Name: count, dtype: int64"
      ]
     },
     "execution_count": 91,
     "metadata": {},
     "output_type": "execute_result"
    }
   ],
   "source": [
    "stocks_02[\"periodo\"].value_counts()"
   ]
  },
  {
   "cell_type": "code",
   "execution_count": 92,
   "metadata": {},
   "outputs": [
    {
     "data": {
      "text/html": [
       "<div>\n",
       "<style scoped>\n",
       "    .dataframe tbody tr th:only-of-type {\n",
       "        vertical-align: middle;\n",
       "    }\n",
       "\n",
       "    .dataframe tbody tr th {\n",
       "        vertical-align: top;\n",
       "    }\n",
       "\n",
       "    .dataframe thead th {\n",
       "        text-align: right;\n",
       "    }\n",
       "</style>\n",
       "<table border=\"1\" class=\"dataframe\">\n",
       "  <thead>\n",
       "    <tr style=\"text-align: right;\">\n",
       "      <th></th>\n",
       "      <th>periodo</th>\n",
       "      <th>product_id</th>\n",
       "      <th>stock_final</th>\n",
       "    </tr>\n",
       "  </thead>\n",
       "  <tbody>\n",
       "    <tr>\n",
       "      <th>0</th>\n",
       "      <td>201810</td>\n",
       "      <td>20001</td>\n",
       "      <td>33.65111</td>\n",
       "    </tr>\n",
       "    <tr>\n",
       "      <th>1</th>\n",
       "      <td>201810</td>\n",
       "      <td>20002</td>\n",
       "      <td>13.11456</td>\n",
       "    </tr>\n",
       "    <tr>\n",
       "      <th>2</th>\n",
       "      <td>201810</td>\n",
       "      <td>20003</td>\n",
       "      <td>916.34190</td>\n",
       "    </tr>\n",
       "    <tr>\n",
       "      <th>3</th>\n",
       "      <td>201810</td>\n",
       "      <td>20004</td>\n",
       "      <td>16.04067</td>\n",
       "    </tr>\n",
       "    <tr>\n",
       "      <th>4</th>\n",
       "      <td>201810</td>\n",
       "      <td>20005</td>\n",
       "      <td>415.71523</td>\n",
       "    </tr>\n",
       "    <tr>\n",
       "      <th>...</th>\n",
       "      <td>...</td>\n",
       "      <td>...</td>\n",
       "      <td>...</td>\n",
       "    </tr>\n",
       "    <tr>\n",
       "      <th>13686</th>\n",
       "      <td>201912</td>\n",
       "      <td>21265</td>\n",
       "      <td>0.22068</td>\n",
       "    </tr>\n",
       "    <tr>\n",
       "      <th>13687</th>\n",
       "      <td>201912</td>\n",
       "      <td>21266</td>\n",
       "      <td>0.11603</td>\n",
       "    </tr>\n",
       "    <tr>\n",
       "      <th>13688</th>\n",
       "      <td>201912</td>\n",
       "      <td>21267</td>\n",
       "      <td>0.54007</td>\n",
       "    </tr>\n",
       "    <tr>\n",
       "      <th>13689</th>\n",
       "      <td>201912</td>\n",
       "      <td>21271</td>\n",
       "      <td>0.22128</td>\n",
       "    </tr>\n",
       "    <tr>\n",
       "      <th>13690</th>\n",
       "      <td>201912</td>\n",
       "      <td>21276</td>\n",
       "      <td>1.05592</td>\n",
       "    </tr>\n",
       "  </tbody>\n",
       "</table>\n",
       "<p>13691 rows × 3 columns</p>\n",
       "</div>"
      ],
      "text/plain": [
       "       periodo  product_id  stock_final\n",
       "0       201810       20001     33.65111\n",
       "1       201810       20002     13.11456\n",
       "2       201810       20003    916.34190\n",
       "3       201810       20004     16.04067\n",
       "4       201810       20005    415.71523\n",
       "...        ...         ...          ...\n",
       "13686   201912       21265      0.22068\n",
       "13687   201912       21266      0.11603\n",
       "13688   201912       21267      0.54007\n",
       "13689   201912       21271      0.22128\n",
       "13690   201912       21276      1.05592\n",
       "\n",
       "[13691 rows x 3 columns]"
      ]
     },
     "execution_count": 92,
     "metadata": {},
     "output_type": "execute_result"
    }
   ],
   "source": [
    "# group original_data by periodo and product_id, sum stock_final\n",
    "stocks_02 = stocks_02.groupby(['periodo', 'product_id']).agg({'stock_final': 'sum'}).reset_index()\n",
    "stocks_02"
   ]
  },
  {
   "cell_type": "code",
   "execution_count": 93,
   "metadata": {},
   "outputs": [
    {
     "data": {
      "text/plain": [
       "201"
      ]
     },
     "execution_count": 93,
     "metadata": {},
     "output_type": "execute_result"
    }
   ],
   "source": [
    "product_ids_maestro = maestro[\"product_id\"].unique().tolist()\n",
    "product_ids_sellout = productos_todos[\"product_id\"].unique().tolist()\n",
    "product_ids_stock = stocks_02[\"product_id\"].unique().tolist()\n",
    "faltantes_en_stock = list(set([*product_ids_sellout, *product_ids_maestro]) - set(product_ids_stock))\n",
    "len(faltantes_en_stock)"
   ]
  },
  {
   "cell_type": "code",
   "execution_count": 94,
   "metadata": {},
   "outputs": [
    {
     "data": {
      "text/plain": [
       "21"
      ]
     },
     "execution_count": 94,
     "metadata": {},
     "output_type": "execute_result"
    }
   ],
   "source": [
    "periodos = productos_todos[\"periodo\"].unique().tolist()\n",
    "periodos_stock_02 = stocks_02[\"periodo\"].unique().tolist()\n",
    "periodos_faltantes = list(set(periodos) - set(periodos_stock_02))\n",
    "len(periodos_faltantes)"
   ]
  },
  {
   "cell_type": "code",
   "execution_count": 95,
   "metadata": {},
   "outputs": [
    {
     "data": {
      "text/plain": [
       "1296"
      ]
     },
     "execution_count": 95,
     "metadata": {},
     "output_type": "execute_result"
    }
   ],
   "source": [
    "# for each value in faltantes_en_stock, add a row to original_data with 0 values and periodo = 201701\n",
    "for product_id in faltantes_en_stock:\n",
    "    stocks_02 = pd.concat([stocks_02, pd.DataFrame([{'product_id': product_id, 'periodo': 201701, 'stock_final': 0}])], axis=0, ignore_index=True)\n",
    "stocks_02[\"product_id\"].nunique()"
   ]
  },
  {
   "cell_type": "code",
   "execution_count": 96,
   "metadata": {},
   "outputs": [
    {
     "data": {
      "text/plain": [
       "36"
      ]
     },
     "execution_count": 96,
     "metadata": {},
     "output_type": "execute_result"
    }
   ],
   "source": [
    "# for each value in periodos, add a row to original_data with 0 values and periodo = 201701\n",
    "for periodo in periodos_faltantes:\n",
    "    stocks_02 = pd.concat([stocks_02, pd.DataFrame([{'product_id': 20001, 'periodo': periodo, 'stock_final': 0}])], axis=0, ignore_index=True)\n",
    "stocks_02[\"periodo\"].nunique()"
   ]
  },
  {
   "cell_type": "code",
   "execution_count": 97,
   "metadata": {},
   "outputs": [
    {
     "data": {
      "text/plain": [
       "(36, 1296)"
      ]
     },
     "execution_count": 97,
     "metadata": {},
     "output_type": "execute_result"
    }
   ],
   "source": [
    "# Find all unique values for 'periodo' and 'product_id'\n",
    "unique_periodos = stocks_02['periodo'].unique()\n",
    "unique_product_ids = stocks_02['product_id'].unique()\n",
    "len(unique_periodos), len(unique_product_ids)"
   ]
  },
  {
   "cell_type": "code",
   "execution_count": 98,
   "metadata": {},
   "outputs": [
    {
     "name": "stdout",
     "output_type": "stream",
     "text": [
      "Shape antes:  (13913, 3)\n",
      "32743\n",
      "Shape Después:  (46656, 3)\n"
     ]
    }
   ],
   "source": [
    "print(\"Shape antes: \", stocks_02.shape)\n",
    "\n",
    "from itertools import product\n",
    "\n",
    "# Create all possible combinations of 'periodo' and 'product_id'\n",
    "all_combinations = list(product(unique_periodos, unique_product_ids))\n",
    "\n",
    "# Convert the combinations into a DataFrame\n",
    "all_combinations_df = pd.DataFrame(all_combinations, columns=['periodo', 'product_id'])\n",
    "\n",
    "# Merge with the existing DataFrame to find missing rows\n",
    "combined_df = all_combinations_df.merge(stocks_02, on=['periodo', 'product_id'], how='left')\n",
    "\n",
    "# Identify the missing rows by looking for NaNs\n",
    "missing_rows = combined_df[combined_df['stock_final'].isna()]\n",
    "\n",
    "missing_rows.loc[:, 'stock_final'] = 0\n",
    "\n",
    "# Now we append the missing rows to the original DataFrame\n",
    "# convert to pd.concat: complete_df = stocks_02.append(missing_rows[stocks_02.columns], ignore_index=True)\n",
    "stocks_02 = pd.concat([stocks_02, missing_rows[stocks_02.columns]], ignore_index=True)\n",
    "\n",
    "# Return the number of new rows added and the path to the new file\n",
    "num_new_rows = len(missing_rows)\n",
    "print(num_new_rows)\n",
    "\n",
    "print(\"Shape Después: \", stocks_02.shape)\n"
   ]
  },
  {
   "cell_type": "code",
   "execution_count": 99,
   "metadata": {},
   "outputs": [],
   "source": [
    "stocks_02.drop_duplicates(subset=['product_id', 'periodo'], keep='first', inplace=True)"
   ]
  },
  {
   "cell_type": "code",
   "execution_count": 100,
   "metadata": {},
   "outputs": [
    {
     "name": "stdout",
     "output_type": "stream",
     "text": [
      "1296.0\n"
     ]
    }
   ],
   "source": [
    "# Debería tener resto 0\n",
    "print(stocks_02.shape[0] / 36)"
   ]
  },
  {
   "cell_type": "code",
   "execution_count": 101,
   "metadata": {},
   "outputs": [
    {
     "data": {
      "text/plain": [
       "periodo        0\n",
       "product_id     0\n",
       "stock_final    0\n",
       "dtype: int64"
      ]
     },
     "execution_count": 101,
     "metadata": {},
     "output_type": "execute_result"
    }
   ],
   "source": [
    "stocks_02.isna().sum()"
   ]
  },
  {
   "cell_type": "code",
   "execution_count": 102,
   "metadata": {},
   "outputs": [
    {
     "name": "stdout",
     "output_type": "stream",
     "text": [
      "ORIGINAL 266675.31713\n",
      "PRODUCTOS 266675.31713\n"
     ]
    }
   ],
   "source": [
    "print(\"ORIGINAL\", pd.read_csv(\"./datasets/originales_clase_3/tb_stocks_02.txt.gz\", sep=\"\\t\")[\"stock_final\"].sum())\n",
    "print(\"PRODUCTOS\", stocks_02[\"stock_final\"].sum())"
   ]
  },
  {
   "cell_type": "code",
   "execution_count": 103,
   "metadata": {},
   "outputs": [],
   "source": [
    "stocks_02.to_csv('./datasets/tb_stocks_02_productos_todos.csv', index=False)"
   ]
  },
  {
   "cell_type": "code",
   "execution_count": 104,
   "metadata": {},
   "outputs": [],
   "source": [
    "stocks_02 = stocks_02[stocks_02[\"periodo\"] <= 201902]\n",
    "stocks_02.to_csv('./datasets/tb_stocks_02_productos_todos_anti_leak.csv', index=False)"
   ]
  },
  {
   "cell_type": "code",
   "execution_count": 105,
   "metadata": {},
   "outputs": [
    {
     "name": "stdout",
     "output_type": "stream",
     "text": [
      "1296.0\n"
     ]
    }
   ],
   "source": [
    "# Debería tener resto 0\n",
    "print(stocks_02.shape[0] / 26)"
   ]
  }
 ],
 "metadata": {
  "kernelspec": {
   "display_name": "venv",
   "language": "python",
   "name": "python3"
  },
  "language_info": {
   "codemirror_mode": {
    "name": "ipython",
    "version": 3
   },
   "file_extension": ".py",
   "mimetype": "text/x-python",
   "name": "python",
   "nbconvert_exporter": "python",
   "pygments_lexer": "ipython3",
   "version": "3.11.4"
  }
 },
 "nbformat": 4,
 "nbformat_minor": 2
}
